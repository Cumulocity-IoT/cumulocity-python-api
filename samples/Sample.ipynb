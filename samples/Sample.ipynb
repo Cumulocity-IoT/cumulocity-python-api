{
 "cells": [
  {
   "cell_type": "code",
   "execution_count": null,
   "id": "711ebb25-2733-4126-af6f-b54255f77959",
   "metadata": {},
   "outputs": [],
   "source": [
    "# import os\n",
    "# import sys\n",
    "# print(os.getcwd())\n",
    "\n",
    "from contextlib import suppress\n",
    "from http.client import HTTPConnection\n",
    "import logging\n",
    "\n",
    "import pandas as pd\n",
    "import seaborn as sns\n",
    "import matplotlib.pyplot as plt\n",
    "\n",
    "from c8y_tk.interactive import CumulocityContext"
   ]
  },
  {
   "cell_type": "markdown",
   "id": "af0978b5-480a-427f-a0d6-dbb0d743e2d6",
   "metadata": {},
   "source": [
    "## Intializing the Cumulocity context\n",
    "\n",
    "A (temporarily) authenticated connection to Cumulocity can be obtained best using the `CumulocityContext` class which\n",
    "- uses standard `C8Y_*` environment variables when provided\n",
    "- interactively queries for additional necessary information, e.g. the user's password of current TFA token"
   ]
  },
  {
   "cell_type": "code",
   "execution_count": null,
   "id": "0430baf5-9a96-4bed-bbdb-60c9ab5cb704",
   "metadata": {},
   "outputs": [],
   "source": [
    "with CumulocityContext() as c8y:\n",
    "    cu = c8y.users.get_current()\n",
    "    print(f\"Current user's full name: {cu.first_name} {cu.last_name}\")"
   ]
  },
  {
   "cell_type": "markdown",
   "id": "52b9ba09-9396-4dfb-ad39-041b1f22f890",
   "metadata": {},
   "source": [
    "When using Jupyter, a context manager might not be practical, but the `CumulocityContext` class can be normally instantiated as well. Then the connection can be reused in subsequent cells:"
   ]
  },
  {
   "cell_type": "code",
   "execution_count": null,
   "id": "efe53c59-b7d2-4b0f-aa7d-eb35801a3cf8",
   "metadata": {},
   "outputs": [],
   "source": [
    "c8y = CumulocityContext()"
   ]
  },
  {
   "cell_type": "markdown",
   "id": "4a4165a5-587b-4f05-a6e9-70a842d47aae",
   "metadata": {},
   "source": [
    "## Querying data\n",
    "\n",
    "The Cumulocity Python API is not only for implementing microservices. Its user-friendly design and full code completion support makes it fun to used in interactive session as well. This works in Jupyter notebooks as well (as you might have guessed - looking at such a notebook)."
   ]
  },
  {
   "cell_type": "code",
   "execution_count": null,
   "id": "e4f1d6c8-f655-4343-a780-8433e7491d02",
   "metadata": {},
   "outputs": [],
   "source": [
    "print(\"Last registered devices:\")\n",
    "for d in c8y.device_inventory.select(query=\"$orderby=creationTime desc\", limit=20):\n",
    "    serial = None\n",
    "    with suppress(AttributeError):\n",
    "        serial = d.c8y_Hardware.serialNumber\n",
    "    print(f\" - {d.name} (#{d.id}), Serial: {serial or '-'}, Registered: {d.creation_time}\")"
   ]
  },
  {
   "cell_type": "markdown",
   "id": "54b4b627-87ce-4be5-bf3b-52041dff1033",
   "metadata": {},
   "source": [
    "## Working with measurements\n",
    "\n",
    "Let's check whether there are some measurements we can work with. First we get the latest measurements and check which devices were involved:"
   ]
  },
  {
   "cell_type": "code",
   "execution_count": null,
   "id": "9abd5d35-bcf0-4be9-a6dd-4c265cc5c427",
   "metadata": {},
   "outputs": [],
   "source": [
    "ms = c8y.measurements.get_all(before='now', reverse=True, limit=1000)\n",
    "device_ids = [m.source for m in ms]\n",
    "\n",
    "print(\"Number of measurements per device:\")\n",
    "print(pd.Series(device_ids).value_counts())\n",
    "\n",
    "fig = sns.countplot(device_ids)\n",
    "plt.title(\"Most active devices\")\n",
    "plt.xlabel(\"/1000 measurements\")\n",
    "plt.show()"
   ]
  },
  {
   "cell_type": "markdown",
   "id": "338d09fa-07af-4e96-9bb5-36bf1ebae53a",
   "metadata": {},
   "source": [
    "We choose the most active device and plot the measurements of the same kind:"
   ]
  },
  {
   "cell_type": "code",
   "execution_count": null,
   "id": "685146a7-e199-4a90-9aa2-c506befbc9d6",
   "metadata": {},
   "outputs": [],
   "source": [
    "top_device = pd.Series(device_ids).value_counts().index[0]\n",
    "print(f\"Most active device: {top_device}\")\n",
    "\n",
    "def get_series(m):\n",
    "    return [f'{k1}.{k2}' for k1, v1 in m.fragments.items() for k2 in v1.keys()]\n",
    "\n",
    "# get defined series names for found measurements\n",
    "device_ms = [m for m in ms if m.source == top_device]\n",
    "device_series = [get_series(m)[0] for m in device_ms]\n",
    "\n",
    "top_series = pd.Series(device_series).value_counts().index[0]\n",
    "print(f\"Most used series: {top_series}\")"
   ]
  },
  {
   "cell_type": "markdown",
   "id": "a6ca0334-a7dc-426a-aade-2259a5359a69",
   "metadata": {},
   "source": [
    "## Visualizing data\n",
    "\n",
    "Let's put this into a diagram:"
   ]
  },
  {
   "cell_type": "code",
   "execution_count": null,
   "id": "41d62ef5-038c-43ac-910b-78f0000c412b",
   "metadata": {},
   "outputs": [],
   "source": [
    "category, series = top_series.split('.')\n",
    "\n",
    "# get max 100 values from this series\n",
    "values = [(m.datetime, m[category][series]['value']) for i, m in enumerate(device_ms) if category in m and series in m[category] and i < 100]\n",
    "values_df = pd.DataFrame(values, columns=['date', 'value'])\n",
    "values_df.head()"
   ]
  },
  {
   "cell_type": "code",
   "execution_count": null,
   "id": "a9c93791-0514-4422-bff9-9ba245e14952",
   "metadata": {},
   "outputs": [],
   "source": [
    "sns.pointplot(data=values_df, x='date', y='value')\n",
    "plt.title(top_series)\n",
    "plt.xticks(ticks=[], labels=[])\n",
    "plt.show()"
   ]
  },
  {
   "cell_type": "code",
   "execution_count": null,
   "id": "af260a7a-bbc8-4c56-82c4-9f885f594642",
   "metadata": {},
   "outputs": [],
   "source": []
  }
 ],
 "metadata": {
  "kernelspec": {
   "display_name": "Python 3 (ipykernel)",
   "language": "python",
   "name": "python3"
  },
  "language_info": {
   "codemirror_mode": {
    "name": "ipython",
    "version": 3
   },
   "file_extension": ".py",
   "mimetype": "text/x-python",
   "name": "python",
   "nbconvert_exporter": "python",
   "pygments_lexer": "ipython3",
   "version": "3.10.16"
  }
 },
 "nbformat": 4,
 "nbformat_minor": 5
}
